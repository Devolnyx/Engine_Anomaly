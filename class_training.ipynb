{
 "cells": [
  {
   "cell_type": "code",
   "execution_count": 2,
   "id": "8c874c19",
   "metadata": {},
   "outputs": [],
   "source": [
    "import matplotlib.pyplot as plt\n",
    "import numpy as np\n",
    "import pandas as pd\n",
    "import tensorflow as tf\n",
    "\n",
    "#from sklearn.metrics import accuracy_score, precision_score, recall_score\n",
    "#from sklearn.model_selection import train_test_split\n",
    "from tensorflow.keras import layers, losses, optimizers, callbacks, models\n",
    "from tensorflow.keras.datasets import fashion_mnist\n",
    "from tensorflow.keras.models import Model"
   ]
  },
  {
   "cell_type": "code",
   "execution_count": 3,
   "id": "6f5d0db6",
   "metadata": {},
   "outputs": [],
   "source": [
    "model_sound = models.load_model('model_sound/')\n",
    "model_underhang = models.load_model('model_underhang/')"
   ]
  },
  {
   "cell_type": "code",
   "execution_count": null,
   "id": "a2aab9cb",
   "metadata": {},
   "outputs": [],
   "source": []
  },
  {
   "cell_type": "code",
   "execution_count": null,
   "id": "d484d082",
   "metadata": {},
   "outputs": [],
   "source": [
    "def resnet_pseudo():\n",
    "    branch_output=[]  \n",
    "     \n",
    "    inputA = tf.keras.Input(shape=(config['img_size'], config['img_size'], 3))\n",
    "    augmented = data_augmentation(inputA)\n",
    "    #x = layers.experimental.preprocessing.Rescaling(1./255)(x)\n",
    "        \n",
    "   #inception_v3   \n",
    "   #mobilenet_v2\n",
    "    #mobilenet\n",
    "    #densenet\n",
    "    \n",
    "    x = tf.keras.layers.experimental.preprocessing.RandomCrop(160,160,3)(augmented) \n",
    "    x = tf.keras.applications.mobilenet_v2.preprocess_input(x) \n",
    "    \n",
    "      #DenseNet121\n",
    "        #ResNet50\n",
    "        #Xception\n",
    "        #MobileNet\n",
    "        #MobileNetV2\n",
    "        #InceptionV3\n",
    "    \n",
    "    model = keras.models.load_model('../input/mobilenetv2-imagenet-weights-input160x160x3/MobileNetV2_imagenet.hdf5')\n",
    "    \n",
    "    model.trainable = False\n",
    "    \n",
    "    x = model(x)\n",
    "    x = layers.GlobalAveragePooling2D()(x)\n",
    "    x = layers.Dense(1024, activation='relu')(x)\n",
    "    x = layers.Dropout(0.25)(x)\n",
    "    #x = layers.Dense(512, activation='relu')(x)\n",
    "    #x = layers.Dropout(0.5)(x)\n",
    "    branch_output.append(x) \n",
    "    \n",
    "    #transformer\n",
    "    trans = layers.experimental.preprocessing.Normalization()(augmented)\n",
    "    trans = create_vit_classifier()(trans)\n",
    "    trans = layers.Dropout(0.1)(trans)\n",
    "    branch_output.append(trans) \n",
    "    \n",
    "    inputB = keras.Input(shape=(df_train.shape[-1],)) \n",
    "    x = layers.Dense(128, activation='relu')(inputB)\n",
    "    x = layers.Dropout(0.5)(x)\n",
    "    x = layers.Dense(64, activation='relu')(x)\n",
    "    branch_output.append(x) \n",
    "    \n",
    "    combined = layers.Concatenate()(branch_output)\n",
    "    \n",
    "    out = layers.Dense(1024, activation='relu')(combined)\n",
    "    out = layers.Dropout(0.25)(out)\n",
    "    out = layers.Dense(256, activation='relu')(out)\n",
    "    out = layers.Dense(1)(out)\n",
    "    \n",
    "    model_final = tf.keras.Model(inputs = [inputA, inputB],outputs=out)\n",
    "\n",
    "    model_final.compile(loss='mean_squared_error',\n",
    "                #loss=tf.keras.losses.SparseCategoricalCrossentropy(),\n",
    "                  optimizer=keras.optimizers.Adam(learning_rate=config['learning_rate']),\n",
    "                    metrics=[tf.keras.metrics.RootMeanSquaredError(name=\"rmse\")],\n",
    "                       )\n",
    "    \n",
    "    return model_final"
   ]
  }
 ],
 "metadata": {
  "kernelspec": {
   "display_name": "Python 3 (ipykernel)",
   "language": "python",
   "name": "python3"
  },
  "language_info": {
   "codemirror_mode": {
    "name": "ipython",
    "version": 3
   },
   "file_extension": ".py",
   "mimetype": "text/x-python",
   "name": "python",
   "nbconvert_exporter": "python",
   "pygments_lexer": "ipython3",
   "version": "3.9.7"
  }
 },
 "nbformat": 4,
 "nbformat_minor": 5
}
